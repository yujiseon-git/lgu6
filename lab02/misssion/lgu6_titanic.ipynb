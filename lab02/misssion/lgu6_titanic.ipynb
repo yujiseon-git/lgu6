{
 "cells": [
  {
   "cell_type": "code",
   "execution_count": null,
   "id": "a8f6ea48-677b-4822-ba04-389cee1eb23e",
   "metadata": {},
   "outputs": [],
   "source": [
    "import pandas as pd\n",
    "titanic_url= ''\n",
    "titanic=pd.read_excel(titanic_url, sheet_name='total')\n",
    "titanic_df=titanic.drop(['body', 'home.dest'], axis=1)\n",
    "titanic_df"
   ]
  },
  {
   "cell_type": "code",
   "execution_count": null,
   "id": "7304f3c9-adff-4b44-aab9-77df7d25d82e",
   "metadata": {},
   "outputs": [
    {
     "ename": "NameError",
     "evalue": "name 'pd' is not defined",
     "output_type": "error",
     "traceback": [
      "\u001b[31m---------------------------------------------------------------------------\u001b[39m",
      "\u001b[31mNameError\u001b[39m                                 Traceback (most recent call last)",
      "\u001b[36mCell\u001b[39m\u001b[36m \u001b[39m\u001b[32mIn[2]\u001b[39m\u001b[32m, line 1\u001b[39m\n\u001b[32m----> \u001b[39m\u001b[32m1\u001b[39m titanic_df[\u001b[33m'\u001b[39m\u001b[33mage_cat\u001b[39m\u001b[33m'\u001b[39m]=\u001b[43mpd\u001b[49m.cut(titanic_df[\u001b[33m'\u001b[39m\u001b[33mage\u001b[39m\u001b[33m'\u001b[39m], bins=[\u001b[32m0\u001b[39m, \u001b[32m3\u001b[39m, \u001b[32m7\u001b[39m, \u001b[32m15\u001b[39m, \u001b[32m30\u001b[39m, \u001b[32m60\u001b[39m, \u001b[32m100\u001b[39m], include_lowest=\u001b[38;5;28;01mTrue\u001b[39;00m, labels=[\u001b[33m'\u001b[39m\u001b[33mbaby\u001b[39m\u001b[33m'\u001b[39m, \u001b[33m'\u001b[39m\u001b[33mchildren\u001b[39m\u001b[33m'\u001b[39m, \u001b[33m'\u001b[39m\u001b[33mteenage\u001b[39m\u001b[33m'\u001b[39m, \u001b[33m'\u001b[39m\u001b[33myoung\u001b[39m\u001b[33m'\u001b[39m, \u001b[33m'\u001b[39m\u001b[33madult\u001b[39m\u001b[33m'\u001b[39m, \u001b[33m'\u001b[39m\u001b[33mold\u001b[39m\u001b[33m'\u001b[39m])\n\u001b[32m      2\u001b[39m titanic_df.groupby(\u001b[33m'\u001b[39m\u001b[33mage_cat\u001b[39m\u001b[33m'\u001b[39m).mean()\n",
      "\u001b[31mNameError\u001b[39m: name 'pd' is not defined"
     ]
    }
   ],
   "source": [
    "titanic_df['age_cat'] = pd.cut(titanic_df['age'], bins=[0, 3, 7, 15, 30, 60, 100], include_lowest=True, labels=['baby', 'children', 'teenage', 'young', 'adult', 'old'])\n",
    "titanic_df.groupby('age_cat').mean()"
   ]
  },
  {
   "cell_type": "code",
   "execution_count": 3,
   "id": "9dd83e0e",
   "metadata": {},
   "outputs": [
    {
     "ename": "NameError",
     "evalue": "name 'titanic_df' is not defined",
     "output_type": "error",
     "traceback": [
      "\u001b[31m---------------------------------------------------------------------------\u001b[39m",
      "\u001b[31mNameError\u001b[39m                                 Traceback (most recent call last)",
      "\u001b[36mCell\u001b[39m\u001b[36m \u001b[39m\u001b[32mIn[3]\u001b[39m\u001b[32m, line 5\u001b[39m\n\u001b[32m      2\u001b[39m get_ipython().run_line_magic(\u001b[33m'\u001b[39m\u001b[33mmatplotlib\u001b[39m\u001b[33m'\u001b[39m, \u001b[33m'\u001b[39m\u001b[33minline\u001b[39m\u001b[33m'\u001b[39m)\n\u001b[32m      3\u001b[39m \u001b[38;5;28;01mfrom\u001b[39;00m\u001b[38;5;250m \u001b[39m\u001b[34;01mmatplotlib\u001b[39;00m\u001b[38;5;250m \u001b[39m\u001b[38;5;28;01mimport\u001b[39;00m pyplot \u001b[38;5;28;01mas\u001b[39;00m plt\n\u001b[32m----> \u001b[39m\u001b[32m5\u001b[39m data = \u001b[43mtitanic_df\u001b[49m\n\u001b[32m      6\u001b[39m plt.figure(figsize=[\u001b[32m14\u001b[39m, \u001b[32m4\u001b[39m])\n\u001b[32m      7\u001b[39m plt.subplot(\u001b[32m131\u001b[39m)\n",
      "\u001b[31mNameError\u001b[39m: name 'titanic_df' is not defined"
     ]
    }
   ],
   "source": [
    "import seaborn as sns\n",
    "%matplotlib inline\n",
    "from matplotlib import pyplot as plt\n",
    "\n",
    "data = titanic_df\n",
    "plt.figure(figsize=[14, 4])\n",
    "plt.subplot(131)\n",
    "sns.barplot(x = 'pclass', y = 'survived', data = titanic_df)\n",
    "plt.subplot(132)\n",
    "sns.barplot(x = 'age_cat', y = 'survived', data = titanic_df)\n",
    "plt.subplot(133)\n",
    "sns.barplot(x = 'sex', y = 'survived', data = titanic_df)\n",
    "plt.subplots_adjust(top=1, bottom=0.1, left=0.10, right=1, hspace=0.5, wspace=0.5)\n",
    "plt.show()"
   ]
  },
  {
   "cell_type": "code",
   "execution_count": 5,
   "id": "5028d88c",
   "metadata": {},
   "outputs": [
    {
     "ename": "NameError",
     "evalue": "name 'titanic_df' is not defined",
     "output_type": "error",
     "traceback": [
      "\u001b[31m---------------------------------------------------------------------------\u001b[39m",
      "\u001b[31mNameError\u001b[39m                                 Traceback (most recent call last)",
      "\u001b[36mCell\u001b[39m\u001b[36m \u001b[39m\u001b[32mIn[5]\u001b[39m\u001b[32m, line 1\u001b[39m\n\u001b[32m----> \u001b[39m\u001b[32m1\u001b[39m \u001b[43mtitanic_df\u001b[49m.groupby([\u001b[33m'\u001b[39m\u001b[33mpclass\u001b[39m\u001b[33m'\u001b[39m, \u001b[33m'\u001b[39m\u001b[33msex\u001b[39m\u001b[33m'\u001b[39m]).mean()\n",
      "\u001b[31mNameError\u001b[39m: name 'titanic_df' is not defined"
     ]
    }
   ],
   "source": [
    "titanic_df.groupby(['pclass', 'sex']).mean()"
   ]
  },
  {
   "cell_type": "code",
   "execution_count": 6,
   "id": "35823e98",
   "metadata": {},
   "outputs": [
    {
     "ename": "NameError",
     "evalue": "name 'titanic_df' is not defined",
     "output_type": "error",
     "traceback": [
      "\u001b[31m---------------------------------------------------------------------------\u001b[39m",
      "\u001b[31mNameError\u001b[39m                                 Traceback (most recent call last)",
      "\u001b[36mCell\u001b[39m\u001b[36m \u001b[39m\u001b[32mIn[6]\u001b[39m\u001b[32m, line 1\u001b[39m\n\u001b[32m----> \u001b[39m\u001b[32m1\u001b[39m boat_survivors = \u001b[43mtitanic_df\u001b[49m[titanic_df[\u001b[33m'\u001b[39m\u001b[33mboat\u001b[39m\u001b[33m'\u001b[39m].notnull()]\n\u001b[32m      2\u001b[39m nboat_survivors = titanic_df[titanic_df[\u001b[33m'\u001b[39m\u001b[33mboat\u001b[39m\u001b[33m'\u001b[39m].isnull()]\n\u001b[32m      3\u001b[39m \u001b[38;5;28mprint\u001b[39m(boat_survivors.groupby(\u001b[33m'\u001b[39m\u001b[33msex\u001b[39m\u001b[33m'\u001b[39m)[\u001b[33m'\u001b[39m\u001b[33msurvived\u001b[39m\u001b[33m'\u001b[39m].mean())\n",
      "\u001b[31mNameError\u001b[39m: name 'titanic_df' is not defined"
     ]
    }
   ],
   "source": [
    "boat_survivors = titanic_df[titanic_df['boat'].notnull()]\n",
    "nboat_survivors = titanic_df[titanic_df['boat'].isnull()]\n",
    "print(boat_survivors.groupby('sex')['survived'].mean())\n",
    "print(nboat_survivors.groupby('sex')['survived'].mean())"
   ]
  },
  {
   "cell_type": "code",
   "execution_count": 8,
   "id": "ad95f721",
   "metadata": {},
   "outputs": [
    {
     "ename": "AttributeError",
     "evalue": "module 'matplotlib.pyplot' has no attribute 'Subplots'",
     "output_type": "error",
     "traceback": [
      "\u001b[31m---------------------------------------------------------------------------\u001b[39m",
      "\u001b[31mAttributeError\u001b[39m                            Traceback (most recent call last)",
      "\u001b[36mCell\u001b[39m\u001b[36m \u001b[39m\u001b[32mIn[8]\u001b[39m\u001b[32m, line 1\u001b[39m\n\u001b[32m----> \u001b[39m\u001b[32m1\u001b[39m f, ax = \u001b[43mplt\u001b[49m\u001b[43m.\u001b[49m\u001b[43mSubplots\u001b[49m(\u001b[32m1\u001b[39m, \u001b[32m2\u001b[39m, figsize=(\u001b[32m12\u001b[39m, \u001b[32m6\u001b[39m))\n\u001b[32m      2\u001b[39m boat_survivors[\u001b[33m'\u001b[39m\u001b[33mSurvived\u001b[39m\u001b[33m'\u001b[39m].value_counts().plot.pie(explode = [\u001b[32m0\u001b[39m, \u001b[32m0.1\u001b[39m], autopct = \u001b[33m'\u001b[39m\u001b[38;5;132;01m%1.2f\u001b[39;00m\u001b[38;5;132;01m%%\u001b[39;00m\u001b[33m'\u001b[39m,ax = ax[\u001b[32m0\u001b[39m])\n\u001b[32m      3\u001b[39m ax[\u001b[32m0\u001b[39m].set_title(\u001b[33m'\u001b[39m\u001b[33mSurvived\u001b[39m\u001b[33m'\u001b[39m)\n",
      "\u001b[31mAttributeError\u001b[39m: module 'matplotlib.pyplot' has no attribute 'Subplots'"
     ]
    }
   ],
   "source": [
    "f, ax = plt.Subplots(1, 2, figsize=(12, 6))\n",
    "boat_survivors['Survived'].value_counts().plot.pie(explode = [0, 0.1], autopct = '%1.2f%%',ax = ax[0])\n",
    "ax[0].set_title('Survived')\n",
    "ax[0].set_ylabel('')\n",
    "sns.countplot(x = 'survived', data = boat_survivors, ax = ax[1])\n",
    "ax[1].set_title('Survived')\n",
    "plt.show()"
   ]
  },
  {
   "cell_type": "code",
   "execution_count": null,
   "id": "e39660e0",
   "metadata": {},
   "outputs": [],
   "source": [
    "conversion_special = lambda x: x.split(',')[1].split('.')[0].strip()\n",
    "titanic_df['title'] = titanic_df['name'].map(conversion_special)"
   ]
  }
 ],
 "metadata": {
  "kernelspec": {
   "display_name": "venv",
   "language": "python",
   "name": "python3"
  },
  "language_info": {
   "codemirror_mode": {
    "name": "ipython",
    "version": 3
   },
   "file_extension": ".py",
   "mimetype": "text/x-python",
   "name": "python",
   "nbconvert_exporter": "python",
   "pygments_lexer": "ipython3",
   "version": "3.13.2"
  }
 },
 "nbformat": 4,
 "nbformat_minor": 5
}
