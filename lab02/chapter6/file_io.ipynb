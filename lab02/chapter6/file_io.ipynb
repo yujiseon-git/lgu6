{
 "cells": [
  {
   "cell_type": "code",
   "execution_count": 2,
   "id": "ea5fb2d6-67fd-4fb7-8480-68319dbc5da9",
   "metadata": {},
   "outputs": [],
   "source": [
    "import seaborn as sns\n",
    "import pandas as pd\n",
    "\n",
    "iris = sns.load_dataset(\"iris\")\n",
    "result = iris.loc[:, ['sepal_length', 'species']]\n",
    "result\n",
    "\n",
    "# 미션\n",
    "# 파일명 iris_mission.csv\n",
    "# 저장 위치 : lab01/dataset/iris_mission.csv\n",
    "\n",
    "result.to_csv(\"../../lab01/dataset/iris_result.csv\", index=False)"
   ]
  },
  {
   "cell_type": "code",
   "execution_count": null,
   "id": "d6c8c8df-2ad1-421e-b45f-80d75e25b2c5",
   "metadata": {},
   "outputs": [],
   "source": []
  }
 ],
 "metadata": {
  "kernelspec": {
   "display_name": "Python 3 (ipykernel)",
   "language": "python",
   "name": "python3"
  },
  "language_info": {
   "codemirror_mode": {
    "name": "ipython",
    "version": 3
   },
   "file_extension": ".py",
   "mimetype": "text/x-python",
   "name": "python",
   "nbconvert_exporter": "python",
   "pygments_lexer": "ipython3",
   "version": "3.13.2"
  }
 },
 "nbformat": 4,
 "nbformat_minor": 5
}
