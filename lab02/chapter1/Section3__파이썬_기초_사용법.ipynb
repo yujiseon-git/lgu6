{
  "cells": [
    {
      "cell_type": "markdown",
      "metadata": {
        "id": "B5Eev1_JLwLj"
      },
      "source": [
        "#Section3.파이썬 기초 사용법"
      ]
    },
    {
      "cell_type": "markdown",
      "metadata": {
        "id": "aobS6Y1iF747"
      },
      "source": [
        "## 3. 변수와 데이터형의 기본 사용법\n",
        "#### 변수의 사용\n"
      ]
    },
    {
      "cell_type": "markdown",
      "metadata": {
        "id": "z_aYTKH4GDBo"
      },
      "source": [
        "다음은 변수 이름을 잘못 사용한 예다. 실행 결과가 SyntaxError로 나와 철자 오류처럼 보이지만\n",
        "def라는 파이썬 예약어를 사용해 발생한 오류다."
      ]
    },
    {
      "cell_type": "code",
      "execution_count": null,
      "metadata": {
        "colab": {
          "base_uri": "https://localhost:8080/",
          "height": 137
        },
        "id": "Y6jeDB1AFkHt",
        "outputId": "31409fa6-7e17-4428-c8e7-15904025e958"
      },
      "outputs": [
        {
          "ename": "SyntaxError",
          "evalue": "ignored",
          "output_type": "error",
          "traceback": [
            "\u001b[0;36m  File \u001b[0;32m\"<ipython-input-1-30e07b63f637>\"\u001b[0;36m, line \u001b[0;32m1\u001b[0m\n\u001b[0;31m    def=5\u001b[0m\n\u001b[0m       ^\u001b[0m\n\u001b[0;31mSyntaxError\u001b[0m\u001b[0;31m:\u001b[0m invalid syntax\n"
          ]
        }
      ],
      "source": [
        "def=5\n",
        "print(def)"
      ]
    },
    {
      "cell_type": "markdown",
      "metadata": {
        "id": "kZQ6Bc4PGOPT"
      },
      "source": [
        "#### ❶ 하나의 변수에 값 할당"
      ]
    },
    {
      "cell_type": "code",
      "execution_count": null,
      "metadata": {
        "colab": {
          "base_uri": "https://localhost:8080/"
        },
        "id": "Gvce93qIGSY_",
        "outputId": "eacf6cfe-f252-4c72-e5ac-6d441afa5c78"
      },
      "outputs": [
        {
          "data": {
            "text/plain": [
              "85000"
            ]
          },
          "execution_count": 2,
          "metadata": {},
          "output_type": "execute_result"
        }
      ],
      "source": [
        "stock_price=85000\n",
        "stock_price"
      ]
    },
    {
      "cell_type": "markdown",
      "metadata": {
        "id": "6OhcZfAOGVzC"
      },
      "source": [
        "#### ❷ 동시에 여러 변수에 값 할당"
      ]
    },
    {
      "cell_type": "code",
      "execution_count": null,
      "metadata": {
        "colab": {
          "base_uri": "https://localhost:8080/"
        },
        "id": "pjaIFBzeGZDP",
        "outputId": "c0eaaf86-839f-4d19-d5f8-7e498acc11ea"
      },
      "outputs": [
        {
          "name": "stdout",
          "output_type": "stream",
          "text": [
            "ss: 80000\n"
          ]
        }
      ],
      "source": [
        "ss, lg, sk=80000, 140000, 200000\n",
        "print(\"ss: %d\" % ss)"
      ]
    },
    {
      "cell_type": "markdown",
      "metadata": {
        "id": "jDFi8783Gcu6"
      },
      "source": [
        "### 숫자형과 문자형의 기본 사용"
      ]
    },
    {
      "cell_type": "code",
      "execution_count": null,
      "metadata": {
        "colab": {
          "base_uri": "https://localhost:8080/"
        },
        "id": "SWFnM82uGfKi",
        "outputId": "cb423eb3-0881-481e-8678-204bf0087468"
      },
      "outputs": [
        {
          "data": {
            "text/plain": [
              "100000"
            ]
          },
          "execution_count": 4,
          "metadata": {},
          "output_type": "execute_result"
        }
      ],
      "source": [
        "amount=100000\n",
        "amount"
      ]
    },
    {
      "cell_type": "code",
      "execution_count": null,
      "metadata": {
        "colab": {
          "base_uri": "https://localhost:8080/"
        },
        "id": "N1dN-8xQGhoH",
        "outputId": "bb1436b4-8660-4734-877c-fa0b8eea61ce"
      },
      "outputs": [
        {
          "data": {
            "text/plain": [
              "6666.666666666667"
            ]
          },
          "execution_count": 5,
          "metadata": {},
          "output_type": "execute_result"
        }
      ],
      "source": [
        "quantity=15\n",
        "price=amount/quantity\n",
        "price "
      ]
    },
    {
      "cell_type": "code",
      "execution_count": 1,
      "metadata": {
        "colab": {
          "base_uri": "https://localhost:8080/"
        },
        "id": "V4lM-lbdGk2p",
        "outputId": "ea0bdfc1-6279-4585-b155-d54b08f3e4c1"
      },
      "outputs": [
        {
          "name": "stdout",
          "output_type": "stream",
          "text": [
            "85000\n"
          ]
        }
      ],
      "source": [
        "stock_price=\"85000\"\n",
        "print(stock_price)"
      ]
    },
    {
      "cell_type": "code",
      "execution_count": null,
      "metadata": {
        "colab": {
          "base_uri": "https://localhost:8080/"
        },
        "id": "0csrr9UVGnr1",
        "outputId": "b7834167-1322-4d83-f3ce-1165d00d8365"
      },
      "outputs": [
        {
          "name": "stdout",
          "output_type": "stream",
          "text": [
            "사느냐, 죽느냐? 그것이 문제다.\n",
            " 어떤 것이 더 고귀한 것일까?\n",
            " Whether 'tis nobler in the mind to suffer\n",
            "the slings and arrows of outrageous fortune,\n",
            "가혹한 운명의 돌팔매와 화살을 견디는 것이 더 고귀한 것일까?\n",
            " Or to take arms against a sea of troubles,\n",
            "And, by opposing, end them?\n",
            "아니면 고통의 바다에 맞서\n",
            "무기를 들고 싸워 그 고통을 끝내는 것이 더 고귀한 것일까?\n"
          ]
        }
      ],
      "source": [
        "string1=\"사느냐, 죽느냐? 그것이 문제다.\\n\"\n",
        "string2='어떤 것이 더 고귀한 것일까?\\n'\n",
        "string3= \"\"\"Whether 'tis nobler in the mind to suffer\n",
        "the slings and arrows of outrageous fortune,\n",
        "가혹한 운명의 돌팔매와 화살을 견디는 것이 더 고귀한 것일까?\\n\"\"\"\n",
        "string4='''Or to take arms against a sea of troubles,\n",
        "And, by opposing, end them?\n",
        "아니면 고통의 바다에 맞서\n",
        "무기를 들고 싸워 그 고통을 끝내는 것이 더 고귀한 것일까?'''\n",
        "print(string1, string2, string3, string4)"
      ]
    },
    {
      "cell_type": "markdown",
      "metadata": {
        "id": "U5PNxJF1GsL7"
      },
      "source": [
        "### 데이터형의 확인"
      ]
    },
    {
      "cell_type": "code",
      "execution_count": null,
      "metadata": {
        "colab": {
          "base_uri": "https://localhost:8080/"
        },
        "id": "I1cS_irbGumq",
        "outputId": "989e9485-4c90-4f26-8226-0d79d3d8f012"
      },
      "outputs": [
        {
          "name": "stdout",
          "output_type": "stream",
          "text": [
            "85000 <class 'int'>\n",
            "128.5 <class 'float'>\n"
          ]
        }
      ],
      "source": [
        "stock_price=85000\n",
        "apple_stock_price=128.5\n",
        "print(stock_price, type(stock_price))\n",
        "print(apple_stock_price, type(apple_stock_price))"
      ]
    },
    {
      "cell_type": "markdown",
      "metadata": {
        "id": "5eBLwYfmG7y-"
      },
      "source": [
        "## 4. 숫자형 연산"
      ]
    },
    {
      "cell_type": "code",
      "execution_count": null,
      "metadata": {
        "colab": {
          "base_uri": "https://localhost:8080/"
        },
        "id": "IMqDN6FgG-Vu",
        "outputId": "90f5c78e-3d5b-436c-8fb3-0f46e350bcc3"
      },
      "outputs": [
        {
          "name": "stdout",
          "output_type": "stream",
          "text": [
            "850000 <class 'int'>\n",
            "8500.0 <class 'float'>\n"
          ]
        }
      ],
      "source": [
        "stock_price=85000\n",
        "quantity=10\n",
        "amount= stock_price*quantity\n",
        "fee_rate= 0.01\n",
        "total_fee=amount*fee_rate\n",
        "print(amount, type(amount))\n",
        "print(total_fee, type(total_fee))"
      ]
    },
    {
      "cell_type": "code",
      "execution_count": null,
      "metadata": {
        "colab": {
          "base_uri": "https://localhost:8080/"
        },
        "id": "jonNwf6OHBK5",
        "outputId": "0c25a303-c706-4624-e015-274c3b3ec6e2"
      },
      "outputs": [
        {
          "name": "stdout",
          "output_type": "stream",
          "text": [
            "3 -1 2 0.5\n",
            "9 1.4142135623730951\n",
            "2.5 2 1\n"
          ]
        }
      ],
      "source": [
        "a=1\n",
        "b=2\n",
        "c, d, e=3, 4, 5\n",
        "print(a+b, a-b, a*b, a/b)\n",
        "print(c**b, b**0.5)\n",
        "print(e/b, e//b, e%b) "
      ]
    },
    {
      "cell_type": "markdown",
      "metadata": {
        "id": "hG4cdgDQHEfa"
      },
      "source": [
        "## 5. 숫자형 포매팅"
      ]
    },
    {
      "cell_type": "code",
      "execution_count": null,
      "metadata": {
        "colab": {
          "base_uri": "https://localhost:8080/"
        },
        "id": "eUSSFyG6HHaw",
        "outputId": "36c65628-fe56-426e-ea56-d6af090d23a6"
      },
      "outputs": [
        {
          "name": "stdout",
          "output_type": "stream",
          "text": [
            "c+d의 값은: e=c+d=7\n"
          ]
        }
      ],
      "source": [
        "c, d=3, 4\n",
        "e=c+d\n",
        "print(\"c+d의 값은: e=c+d={0:d}\".format(e))"
      ]
    },
    {
      "cell_type": "code",
      "execution_count": null,
      "metadata": {
        "colab": {
          "base_uri": "https://localhost:8080/"
        },
        "id": "fTQko46bHKAj",
        "outputId": "e0fccd4f-5d66-4115-a135-60c770b3bd6b"
      },
      "outputs": [
        {
          "name": "stdout",
          "output_type": "stream",
          "text": [
            "사칙연산 결과는: 3, -1, 2, 0.5\n",
            "c의 e 제곱과 b의 제곱근 결과는: 243, 1.41\n"
          ]
        }
      ],
      "source": [
        "a=1\n",
        "b=2\n",
        "c, d, e=3, 4, 5\n",
        "print(\"사칙연산 결과는: {0}, {1}, {2}, {3}\".format(a+b, a-b, a*b, a/b))\n",
        "print(\"c의 e 제곱과 b의 제곱근 결과는: {0:d}, {1:.2f}\".format(c**e, b**0.5))"
      ]
    },
    {
      "cell_type": "markdown",
      "metadata": {
        "id": "ANC8QaJDHMX6"
      },
      "source": [
        "## 6. 문자열 연산\n",
        "### 문자열 연결"
      ]
    },
    {
      "cell_type": "code",
      "execution_count": null,
      "metadata": {
        "colab": {
          "base_uri": "https://localhost:8080/"
        },
        "id": "uRDDwSfEHRIf",
        "outputId": "858e3688-1c76-49b1-f583-6070debd74f9"
      },
      "outputs": [
        {
          "name": "stdout",
          "output_type": "stream",
          "text": [
            "**************************************************\n",
            "Samsung 85,000 Samsung 85,000 Samsung 85,000 \n"
          ]
        }
      ],
      "source": [
        "company_name=\"Samsung\"\n",
        "price=\"85,000\"\n",
        "stock_price=company_name + \" \" + price +\" \" # 문자열 연결하기\n",
        "print(\"*\"*50) # * 문자를 50번 출력하기\n",
        "print(stock_price*3) # stock_price 문자열을 3번 출력하기"
      ]
    },
    {
      "cell_type": "markdown",
      "metadata": {
        "id": "nwMrhpNBHWmj"
      },
      "source": [
        "###문자열 인덱싱"
      ]
    },
    {
      "cell_type": "code",
      "execution_count": null,
      "metadata": {
        "colab": {
          "base_uri": "https://localhost:8080/"
        },
        "id": "-ToJnKOQHZMs",
        "outputId": "e64f767b-b7eb-4236-b7d6-8d58056fc39d"
      },
      "outputs": [
        {
          "name": "stdout",
          "output_type": "stream",
          "text": [
            "Hello Python\n",
            "H n e\n"
          ]
        }
      ],
      "source": [
        "variable='Hello Python'\n",
        "print(variable)\n",
        "print(variable[0], variable[-1],\n",
        "variable[1])"
      ]
    },
    {
      "cell_type": "markdown",
      "metadata": {
        "id": "tbJdpwKQHbVq"
      },
      "source": [
        "###문자열 슬라이싱"
      ]
    },
    {
      "cell_type": "code",
      "execution_count": null,
      "metadata": {
        "colab": {
          "base_uri": "https://localhost:8080/"
        },
        "id": "W2uxUcFMHeR8",
        "outputId": "5e51be47-0d0e-4fcd-ee5d-5d101710992c"
      },
      "outputs": [
        {
          "name": "stdout",
          "output_type": "stream",
          "text": [
            "41 T To  estio\n"
          ]
        }
      ],
      "source": [
        "single_string='To be, or not to be, that is the question'\n",
        "print(len(single_string), single_string[0], single_string[:3], single_string[35:-1])"
      ]
    },
    {
      "cell_type": "markdown",
      "metadata": {
        "id": "IZDtS3EnHgzY"
      },
      "source": [
        "## 7. 문자열 포매팅\n",
        "### 서식 문자를 이용한 포매팅"
      ]
    },
    {
      "cell_type": "code",
      "execution_count": null,
      "metadata": {
        "colab": {
          "base_uri": "https://localhost:8080/",
          "height": 35
        },
        "id": "gC8bvwBrHlDq",
        "outputId": "98f32ae7-51bb-4b8f-924b-c95b4f8be8c6"
      },
      "outputs": [
        {
          "data": {
            "application/vnd.google.colaboratory.intrinsic+json": {
              "type": "string"
            },
            "text/plain": [
              "'I have 5 stocks.'"
            ]
          },
          "execution_count": 17,
          "metadata": {},
          "output_type": "execute_result"
        }
      ],
      "source": [
        "quantity=5\n",
        "\"I have %d stocks.\" % quantity"
      ]
    },
    {
      "cell_type": "code",
      "execution_count": null,
      "metadata": {
        "colab": {
          "base_uri": "https://localhost:8080/",
          "height": 35
        },
        "id": "lm0PLTY1HooB",
        "outputId": "c03e1b66-fa54-4914-b5b7-ced1d8b054d5"
      },
      "outputs": [
        {
          "data": {
            "application/vnd.google.colaboratory.intrinsic+json": {
              "type": "string"
            },
            "text/plain": [
              "'I have Samsung stocks.'"
            ]
          },
          "execution_count": 18,
          "metadata": {},
          "output_type": "execute_result"
        }
      ],
      "source": [
        "company_name=\"Samsung\"\n",
        "\"I have %s stocks.\" %company_name"
      ]
    },
    {
      "cell_type": "code",
      "execution_count": null,
      "metadata": {
        "colab": {
          "base_uri": "https://localhost:8080/",
          "height": 35
        },
        "id": "b1r9VyARHwzA",
        "outputId": "db49bbff-b7ff-4619-959e-ea70d7f49b78"
      },
      "outputs": [
        {
          "data": {
            "application/vnd.google.colaboratory.intrinsic+json": {
              "type": "string"
            },
            "text/plain": [
              "'I have 5 Samsung stocks.'"
            ]
          },
          "execution_count": 19,
          "metadata": {},
          "output_type": "execute_result"
        }
      ],
      "source": [
        "company_name=\"Samsung\"\n",
        "quantity=5\n",
        "\"I have %d %s stocks.\" %(quantity, company_name)"
      ]
    },
    {
      "cell_type": "markdown",
      "metadata": {
        "id": "G_y7Xz4PHtL_"
      },
      "source": [
        "### format 함수를 이용한 포매팅"
      ]
    },
    {
      "cell_type": "code",
      "execution_count": null,
      "metadata": {
        "colab": {
          "base_uri": "https://localhost:8080/",
          "height": 35
        },
        "id": "NbId5-sKH1KQ",
        "outputId": "b2452fad-7001-43de-d9e9-fb94468a8dbe"
      },
      "outputs": [
        {
          "data": {
            "application/vnd.google.colaboratory.intrinsic+json": {
              "type": "string"
            },
            "text/plain": [
              "'Samsung 85,000'"
            ]
          },
          "execution_count": 20,
          "metadata": {},
          "output_type": "execute_result"
        }
      ],
      "source": [
        "company_name=\"Samsung\"\n",
        "price=\"85,000\"\n",
        "stock_price=\"{0} {1}\".format(company_name, price)\n",
        "stock_price"
      ]
    },
    {
      "cell_type": "code",
      "execution_count": null,
      "metadata": {
        "colab": {
          "base_uri": "https://localhost:8080/",
          "height": 35
        },
        "id": "EJfvSEhOH3Kg",
        "outputId": "219073ba-5742-4642-f043-eb32472e5e40"
      },
      "outputs": [
        {
          "data": {
            "application/vnd.google.colaboratory.intrinsic+json": {
              "type": "string"
            },
            "text/plain": [
              "'Samsung 50000'"
            ]
          },
          "execution_count": 21,
          "metadata": {},
          "output_type": "execute_result"
        }
      ],
      "source": [
        "company_name=\"Samsung\"\n",
        "price=\"85,000\"\n",
        "stock_price=\"{0} {price}\".format(company_name,price=50000)\n",
        "stock_price"
      ]
    },
    {
      "cell_type": "markdown",
      "metadata": {
        "id": "1nqc1bMEH6bH"
      },
      "source": [
        "### f 문자열 포매팅"
      ]
    },
    {
      "cell_type": "code",
      "execution_count": null,
      "metadata": {
        "colab": {
          "base_uri": "https://localhost:8080/",
          "height": 35
        },
        "id": "mPzo9-fLH9Qg",
        "outputId": "6243ac63-fc78-45bf-f44d-d94eb9b1bd52"
      },
      "outputs": [
        {
          "data": {
            "application/vnd.google.colaboratory.intrinsic+json": {
              "type": "string"
            },
            "text/plain": [
              "'Samsung 85,000'"
            ]
          },
          "execution_count": 22,
          "metadata": {},
          "output_type": "execute_result"
        }
      ],
      "source": [
        "company_name=\"Samsung\"\n",
        "price=\"85,000\"\n",
        "stock_price=f\"{company_name} {price}\"\n",
        "stock_price"
      ]
    },
    {
      "cell_type": "code",
      "execution_count": null,
      "metadata": {
        "colab": {
          "base_uri": "https://localhost:8080/",
          "height": 90
        },
        "id": "nNdBbfUNIBS4",
        "outputId": "5b24c59a-d717-41fc-aac1-c37f9fb16a90"
      },
      "outputs": [
        {
          "name": "stdout",
          "output_type": "stream",
          "text": [
            "Samsung\n",
            "85,000\n",
            "100,000\n"
          ]
        },
        {
          "data": {
            "application/vnd.google.colaboratory.intrinsic+json": {
              "type": "string"
            },
            "text/plain": [
              "'Samsung\\n85,000\\n100,000'"
            ]
          },
          "execution_count": 23,
          "metadata": {},
          "output_type": "execute_result"
        }
      ],
      "source": [
        "company_name=\"Samsung\"\n",
        "price=\"85,000\"\n",
        "new_price=\"100,000\"\n",
        "stock_price=f\"\"\"{company_name}\n",
        "{price}\n",
        "{new_price}\"\"\"\n",
        "print(stock_price)\n",
        "stock_price"
      ]
    },
    {
      "cell_type": "markdown",
      "metadata": {
        "id": "McfdB_7AIEEK"
      },
      "source": [
        "##8. 문자열 내장 함수"
      ]
    },
    {
      "cell_type": "markdown",
      "metadata": {
        "id": "gv5vU1RoIGyH"
      },
      "source": [
        "### 문자 개수 세기: count 함수"
      ]
    },
    {
      "cell_type": "code",
      "execution_count": null,
      "metadata": {
        "colab": {
          "base_uri": "https://localhost:8080/"
        },
        "id": "jRCzmnTLIJLB",
        "outputId": "b03e0838-e01d-4438-95ed-e9de87ca581b"
      },
      "outputs": [
        {
          "data": {
            "text/plain": [
              "6"
            ]
          },
          "execution_count": 24,
          "metadata": {},
          "output_type": "execute_result"
        }
      ],
      "source": [
        "single_string=\"To be, or not to be, that is the question\"\n",
        "single_string.count(\"t\")"
      ]
    },
    {
      "cell_type": "markdown",
      "metadata": {
        "id": "K3gFVt7pILce"
      },
      "source": [
        "### 문자 위치 찾기: find 함수"
      ]
    },
    {
      "cell_type": "code",
      "execution_count": null,
      "metadata": {
        "colab": {
          "base_uri": "https://localhost:8080/"
        },
        "id": "48gwLsWdIOJQ",
        "outputId": "6350a91e-9169-43fb-82c5-6aeb2a4cf108"
      },
      "outputs": [
        {
          "data": {
            "text/plain": [
              "12"
            ]
          },
          "execution_count": 25,
          "metadata": {},
          "output_type": "execute_result"
        }
      ],
      "source": [
        "single_string=\"To be, or not to be, that is the question\"\n",
        "single_string.find('t')"
      ]
    },
    {
      "cell_type": "markdown",
      "metadata": {
        "id": "HxWYa1zzIQhO"
      },
      "source": [
        "###첫 글자만 대문자로 바꾸기: capitalize 함수"
      ]
    },
    {
      "cell_type": "code",
      "execution_count": null,
      "metadata": {
        "colab": {
          "base_uri": "https://localhost:8080/",
          "height": 35
        },
        "id": "IDfopnBvITAi",
        "outputId": "f2ac13d1-f129-42a0-a7ab-c72246eb485d"
      },
      "outputs": [
        {
          "data": {
            "application/vnd.google.colaboratory.intrinsic+json": {
              "type": "string"
            },
            "text/plain": [
              "'To be, or not to be, that is the question'"
            ]
          },
          "execution_count": 26,
          "metadata": {},
          "output_type": "execute_result"
        }
      ],
      "source": [
        "single_string=\"to be, or not to be, that is the question\"\n",
        "text=single_string\n",
        "text.capitalize( )"
      ]
    },
    {
      "cell_type": "markdown",
      "metadata": {
        "id": "6Slp_CamIXWe"
      },
      "source": [
        "###모든 문자를 대문자/소문자로 바꾸기: upper 함수, lower 함수"
      ]
    },
    {
      "cell_type": "code",
      "execution_count": null,
      "metadata": {
        "colab": {
          "base_uri": "https://localhost:8080/",
          "height": 35
        },
        "id": "3PBTm-KLIZc0",
        "outputId": "29bd2857-2b74-4751-d934-27887b1ec5f0"
      },
      "outputs": [
        {
          "data": {
            "application/vnd.google.colaboratory.intrinsic+json": {
              "type": "string"
            },
            "text/plain": [
              "'TO BE, OR NOT TO BE, THAT IS THE QUESTION'"
            ]
          },
          "execution_count": 27,
          "metadata": {},
          "output_type": "execute_result"
        }
      ],
      "source": [
        "single_string=\"To be, or not to be, that is the question\"\n",
        "text=single_string\n",
        "text.upper( ) # text 변수값을 대문자로 출력한다."
      ]
    },
    {
      "cell_type": "markdown",
      "metadata": {
        "id": "qTx76OYPIbgo"
      },
      "source": [
        "### 특정 문자 바꾸기: replace 함수"
      ]
    },
    {
      "cell_type": "code",
      "execution_count": null,
      "metadata": {
        "colab": {
          "base_uri": "https://localhost:8080/",
          "height": 35
        },
        "id": "fBHsdfJUIeND",
        "outputId": "79cd6f76-a7d0-443f-fda7-22bd146a9556"
      },
      "outputs": [
        {
          "data": {
            "application/vnd.google.colaboratory.intrinsic+json": {
              "type": "string"
            },
            "text/plain": [
              "'To be, or not to be, that is the QUESTION'"
            ]
          },
          "execution_count": 28,
          "metadata": {},
          "output_type": "execute_result"
        }
      ],
      "source": [
        "single_string=\"To be, or not to be, that is the question\"\n",
        "text=single_string\n",
        "text.replace(\"question\",\"QUESTION\") # text 변수값 일부를 대문자로 출력한다."
      ]
    },
    {
      "cell_type": "markdown",
      "metadata": {
        "id": "VLF2kE-LIf7y"
      },
      "source": [
        "### 단어 단위로 쪼개기: split 함수"
      ]
    },
    {
      "cell_type": "code",
      "execution_count": null,
      "metadata": {
        "colab": {
          "base_uri": "https://localhost:8080/"
        },
        "id": "hA3DGxP9IkdV",
        "outputId": "e4ffa398-e452-4657-a9fd-7cd9f0edf242"
      },
      "outputs": [
        {
          "data": {
            "text/plain": [
              "['To', 'be,', 'or', 'not', 'to', 'be,', 'that', 'is', 'the', 'question']"
            ]
          },
          "execution_count": 29,
          "metadata": {},
          "output_type": "execute_result"
        }
      ],
      "source": [
        "single_string=\"To be, or not to be, that is the question\"\n",
        "text=single_string\n",
        "text.split( ) # text 변수값을 공백을 기준으로 나눈다."
      ]
    },
    {
      "cell_type": "markdown",
      "metadata": {
        "id": "rbnnolYJInDb"
      },
      "source": [
        "### 문자열의 시작과 끝에서 주어진 문자 삭제하기: strip 함수"
      ]
    },
    {
      "cell_type": "code",
      "execution_count": null,
      "metadata": {
        "colab": {
          "base_uri": "https://localhost:8080/",
          "height": 35
        },
        "id": "gxVIK8f4Ip17",
        "outputId": "d08aa579-c7d1-453a-da95-a67be2027721"
      },
      "outputs": [
        {
          "data": {
            "application/vnd.google.colaboratory.intrinsic+json": {
              "type": "string"
            },
            "text/plain": [
              "'www.Python.org'"
            ]
          },
          "execution_count": 30,
          "metadata": {},
          "output_type": "execute_result"
        }
      ],
      "source": [
        "'http://www.Python.org'.strip('http://')"
      ]
    },
    {
      "cell_type": "code",
      "execution_count": null,
      "metadata": {
        "colab": {
          "base_uri": "https://localhost:8080/",
          "height": 35
        },
        "id": "-M8fl3N5Is9F",
        "outputId": "5e39b16d-ac12-437c-dce6-0334554eb3f1"
      },
      "outputs": [
        {
          "data": {
            "application/vnd.google.colaboratory.intrinsic+json": {
              "type": "string"
            },
            "text/plain": [
              "'Welcome to Hanbit.co.kr'"
            ]
          },
          "execution_count": 31,
          "metadata": {},
          "output_type": "execute_result"
        }
      ],
      "source": [
        "' Welcome to Hanbit.co.kr '.strip( )"
      ]
    },
    {
      "cell_type": "markdown",
      "metadata": {
        "id": "LyPPTWJ2Iyge"
      },
      "source": [
        "## 연습문제"
      ]
    },
    {
      "cell_type": "code",
      "execution_count": null,
      "metadata": {
        "colab": {
          "base_uri": "https://localhost:8080/"
        },
        "id": "GV_GYo3iI0iD",
        "outputId": "ce382dd0-cd81-4b29-e1e1-5ea32e428a29"
      },
      "outputs": [
        {
          "name": "stdout",
          "output_type": "stream",
          "text": [
            "H n e\n"
          ]
        }
      ],
      "source": [
        "variable='Hello Python'\n",
        "print(variable[0], variable[-1], variable[1])"
      ]
    },
    {
      "cell_type": "code",
      "execution_count": null,
      "metadata": {
        "colab": {
          "base_uri": "https://localhost:8080/",
          "height": 35
        },
        "id": "hZfvsiXDI2rt",
        "outputId": "f2576c50-7221-405e-ef10-98876c9ac0e1"
      },
      "outputs": [
        {
          "data": {
            "application/vnd.google.colaboratory.intrinsic+json": {
              "type": "string"
            },
            "text/plain": [
              "'I have Samsung stocks.'"
            ]
          },
          "execution_count": 33,
          "metadata": {},
          "output_type": "execute_result"
        }
      ],
      "source": [
        "company_name=\"Samsung\"\n",
        "\"I have %s stocks.\" %company_name"
      ]
    },
    {
      "cell_type": "code",
      "execution_count": null,
      "metadata": {
        "colab": {
          "base_uri": "https://localhost:8080/",
          "height": 35
        },
        "id": "klE5iZ5mI7Eh",
        "outputId": "8a98bbf4-7791-49e1-80d2-8755934774c2"
      },
      "outputs": [
        {
          "data": {
            "application/vnd.google.colaboratory.intrinsic+json": {
              "type": "string"
            },
            "text/plain": [
              "'To be, or not to be, that is the QUESTION'"
            ]
          },
          "execution_count": 34,
          "metadata": {},
          "output_type": "execute_result"
        }
      ],
      "source": [
        "single_string=\"To be, or not to be, that is the question\"\n",
        "text=single_string\n",
        "text.replace(\"question\",\"QUESTION\")"
      ]
    }
  ],
  "metadata": {
    "colab": {
      "provenance": []
    },
    "kernelspec": {
      "display_name": "venv",
      "language": "python",
      "name": "python3"
    },
    "language_info": {
      "name": "python",
      "version": "3.13.2"
    }
  },
  "nbformat": 4,
  "nbformat_minor": 0
}
